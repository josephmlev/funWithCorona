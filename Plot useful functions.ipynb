{
 "cells": [
  {
   "cell_type": "code",
   "execution_count": 2,
   "metadata": {},
   "outputs": [],
   "source": [
    "import numpy as np\n",
    "import matplotlib.pyplot as plt\n",
    "import bplot as bp\n",
    "from scipy.optimize import minimize"
   ]
  },
  {
   "cell_type": "markdown",
   "metadata": {},
   "source": [
    "## Logistics function\n",
    "https://en.wikipedia.org/wiki/Logistic_function\n",
    "\n",
    "$f(x) = \\frac{L}{1 + e^{-k(x-x_0)}}$\n",
    "\n",
    "where\n",
    "\n",
    "$x_{0} =$ the x-value of the sigmoid's midpoint\n",
    "\n",
    "$L =$ the curve's maximum value, and\n",
    "\n",
    "$k =$ the logistic growth rate or steepness of the curve$"
   ]
  },
  {
   "cell_type": "code",
   "execution_count": null,
   "metadata": {},
   "outputs": [],
   "source": []
  }
 ],
 "metadata": {
  "kernelspec": {
   "display_name": "Python 3",
   "language": "python",
   "name": "python3"
  },
  "language_info": {
   "codemirror_mode": {
    "name": "ipython",
    "version": 3
   },
   "file_extension": ".py",
   "mimetype": "text/x-python",
   "name": "python",
   "nbconvert_exporter": "python",
   "pygments_lexer": "ipython3",
   "version": "3.6.1"
  }
 },
 "nbformat": 4,
 "nbformat_minor": 2
}
